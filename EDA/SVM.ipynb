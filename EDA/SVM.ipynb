{
 "cells": [
  {
   "cell_type": "markdown",
   "metadata": {},
   "source": [
    "## Read dataset and initial cleanning"
   ]
  },
  {
   "cell_type": "code",
   "execution_count": 119,
   "metadata": {},
   "outputs": [],
   "source": [
    "import numpy as np\n",
    "import pandas as pd\n",
    "import matplotlib.pyplot as plt"
   ]
  },
  {
   "cell_type": "code",
   "execution_count": 120,
   "metadata": {},
   "outputs": [],
   "source": [
    "# read and clean\n",
    "my_data = pd.read_csv(\"Mendeley.csv\")\n",
    "df = my_data.iloc[:,2:]\n",
    "df_copy = df.copy()\n",
    "df_copy = df_copy.drop(df_copy.index[df_copy['CLASS'] == \"P\"])\n",
    "\n",
    "# then convert Male and Female to 1 and 0 through level, Class to be 1(Yes), 0(No), and get rid of P(predictice)\n",
    "cleanup_nums = {\"Gender\":{\"M\": 1, \"F\": 0}, \"CLASS\":{\"Y\":1, \"N\":0 }}\n",
    "\n",
    "# implement the replacing\n",
    "df_copy = df_copy.replace(cleanup_nums)"
   ]
  },
  {
   "cell_type": "markdown",
   "metadata": {},
   "source": [
    "## Split training and sampling data"
   ]
  },
  {
   "cell_type": "code",
   "execution_count": 121,
   "metadata": {},
   "outputs": [],
   "source": [
    "from sklearn.model_selection import train_test_split\n",
    "X = df_copy.iloc[:,0:11].to_numpy()\n",
    "y = df_copy.iloc[:,11].to_numpy()\n",
    "X_train, X_test, y_train, y_test = train_test_split(X, y, random_state=0)"
   ]
  },
  {
   "cell_type": "markdown",
   "metadata": {},
   "source": [
    "## Implement our SVM model and evaluation"
   ]
  },
  {
   "cell_type": "code",
   "execution_count": 122,
   "metadata": {},
   "outputs": [
    {
     "name": "stdout",
     "output_type": "stream",
     "text": [
      "The accuracy of rbf kernel is 0.9071729957805907\n",
      "[[  0  22]\n",
      " [  0 215]]\n",
      "The accuracy of linear kernel is 0.9789029535864979\n",
      "[[ 21   1]\n",
      " [  4 211]]\n",
      "The accuracy of sigmoid kernel is 0.8523206751054853\n",
      "[[  0  22]\n",
      " [ 13 202]]\n",
      "The accuracy of poly kernel is 0.9071729957805907\n",
      "[[  0  22]\n",
      " [  0 215]]\n"
     ]
    }
   ],
   "source": [
    "from sklearn.svm import SVC\n",
    "from sklearn import metrics\n",
    "metrics.confusion_matrix(y_test, y_pred)\n",
    "kernel = {\"linear\", \"poly\", \"rbf\", \"sigmoid\"}\n",
    "for var in kernel:\n",
    "    svc = SVC(kernel = var)\n",
    "    svc.fit(X_train,y_train)\n",
    "    y_pred = svc.predict(X_test)\n",
    "    accuracy = np.mean(y_pred == y_test)\n",
    "    print(f\"The accuracy of {var} kernel is {accuracy}\")\n",
    "    print(metrics.confusion_matrix(y_test, y_pred))"
   ]
  },
  {
   "cell_type": "markdown",
   "metadata": {},
   "source": [
    "## ROC analysis\n",
    "### it seems like from the above results, linear model has the highest accuracy, so we will use it for ROC analysis"
   ]
  },
  {
   "cell_type": "code",
   "execution_count": 125,
   "metadata": {},
   "outputs": [
    {
     "name": "stderr",
     "output_type": "stream",
     "text": [
      "/Users/cuiqizhe/Desktop/Imperial Mathamatics/Y2/Interdisiplinary Research Computing/PoP_venv/lib/python3.8/site-packages/sklearn/utils/deprecation.py:87: FutureWarning: Function plot_roc_curve is deprecated; Function :func:`plot_roc_curve` is deprecated in 1.0 and will be removed in 1.2. Use one of the class methods: :meth:`sklearn.metric.RocCurveDisplay.from_predictions` or :meth:`sklearn.metric.RocCurveDisplay.from_estimator`.\n",
      "  warnings.warn(msg, category=FutureWarning)\n"
     ]
    },
    {
     "data": {
      "text/plain": [
       "<sklearn.metrics._plot.roc_curve.RocCurveDisplay at 0x7fa4456f90a0>"
      ]
     },
     "execution_count": 125,
     "metadata": {},
     "output_type": "execute_result"
    },
    {
     "data": {
      "image/png": "[encoded data removed]",
      "text/plain": [
       "<Figure size 432x288 with 1 Axes>"
      ]
     },
     "metadata": {
      "needs_background": "light"
     },
     "output_type": "display_data"
    }
   ],
   "source": [
    "# The ROC curve of SVM show the model fit well with our database\n",
    "from sklearn.metrics import plot_roc_curve\n",
    "svc = SVC(kernel = 'linear')\n",
    "svc.fit(X_train, y_train)\n",
    "plot_roc_curve(svc, X_test, y_test)"
   ]
  },
  {
   "cell_type": "markdown",
   "metadata": {},
   "source": [
    "## Conclusion\n",
    "SVM model strongly fit to the database, with linear kernel giving the highest accuracy. However, it is hard to visualize the SVM model since we are working in high dimensions."
   ]
  }
 ],
 "metadata": {
  "interpreter": {
   "hash": "e4218f9bd59ff65e05a935bfcbae99cbd78b735339f4beda2bbc2188d59e09d1"
  },
  "kernelspec": {
   "display_name": "Python 3.8.5 ('PoP_venv': venv)",
   "language": "python",
   "name": "python3"
  },
  "language_info": {
   "codemirror_mode": {
    "name": "ipython",
    "version": 3
   },
   "file_extension": ".py",
   "mimetype": "text/x-python",
   "name": "python",
   "nbconvert_exporter": "python",
   "pygments_lexer": "ipython3",
   "version": "3.8.5"
  },
  "orig_nbformat": 4
 },
 "nbformat": 4,
 "nbformat_minor": 2
}
